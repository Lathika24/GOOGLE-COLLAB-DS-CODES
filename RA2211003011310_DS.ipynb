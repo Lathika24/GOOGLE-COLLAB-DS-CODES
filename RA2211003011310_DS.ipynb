{
  "nbformat": 4,
  "nbformat_minor": 0,
  "metadata": {
    "colab": {
      "provenance": []
    },
    "kernelspec": {
      "name": "python3",
      "display_name": "Python 3"
    },
    "language_info": {
      "name": "python"
    }
  },
  "cells": [
    {
      "cell_type": "code",
      "source": [
        "# prompt: Create an array and perform the following operations : ndim , itemsize, dtype, reshape, slicing, linspace, ravel.\n",
        "\n",
        "import numpy as np\n",
        "\n",
        "# Create a NumPy array\n",
        "arr = np.array([1, 2, 3, 4, 5, 6, 7, 8, 9, 10])\n",
        "\n",
        "# Array dimensions\n",
        "print(\"Dimensions:\", arr.ndim)\n",
        "\n",
        "# Size of each element in bytes\n",
        "print(\"Item size:\", arr.itemsize)\n",
        "\n",
        "# Data type of the array elements\n",
        "print(\"Data type:\", arr.dtype)\n",
        "\n",
        "# Reshape the array\n",
        "reshaped_arr = arr.reshape(2, 5)\n",
        "print(\"Reshaped array:\\n\", reshaped_arr)\n",
        "\n",
        "# Array slicing\n",
        "sliced_arr = arr[2:5]  # Elements from index 2 up to (but not including) 5\n",
        "print(\"Sliced array:\", sliced_arr)\n",
        "\n",
        "\n",
        "# Create an array using linspace\n",
        "linspace_arr = np.linspace(0, 1, 5)  # 5 evenly spaced numbers between 0 and 1\n",
        "print(\"Linspace array:\", linspace_arr)\n",
        "\n",
        "# Flatten the array using ravel\n",
        "flattened_arr = reshaped_arr.ravel()\n",
        "print(\"Flattened array:\", flattened_arr)"
      ],
      "metadata": {
        "colab": {
          "base_uri": "https://localhost:8080/"
        },
        "id": "K2YnTrRnDw_c",
        "outputId": "b05b7444-5971-46e5-b5cd-731bcf98f7f6"
      },
      "execution_count": 1,
      "outputs": [
        {
          "output_type": "stream",
          "name": "stdout",
          "text": [
            "Dimensions: 1\n",
            "Item size: 8\n",
            "Data type: int64\n",
            "Reshaped array:\n",
            " [[ 1  2  3  4  5]\n",
            " [ 6  7  8  9 10]]\n",
            "Sliced array: [3 4 5]\n",
            "Linspace array: [0.   0.25 0.5  0.75 1.  ]\n",
            "Flattened array: [ 1  2  3  4  5  6  7  8  9 10]\n"
          ]
        }
      ]
    },
    {
      "cell_type": "code",
      "source": [],
      "metadata": {
        "id": "D0Yx-tMmGyVI"
      },
      "execution_count": null,
      "outputs": []
    }
  ]
}